{
 "cells": [
  {
   "cell_type": "markdown",
   "metadata": {},
   "source": [
    "# Spin-off 3 MongoDB"
   ]
  },
  {
   "cell_type": "markdown",
   "metadata": {},
   "source": [
    "Création BDD spin-off3 via Python pour MongoDB"
   ]
  },
  {
   "cell_type": "code",
   "execution_count": 1,
   "metadata": {},
   "outputs": [],
   "source": [
    "import pymongo, csv\n",
    "#Importation de la bibliothèque pymongo et csv"
   ]
  },
  {
   "cell_type": "code",
   "execution_count": 2,
   "metadata": {},
   "outputs": [],
   "source": [
    "from pymongo import MongoClient\n",
    "client = MongoClient('mongodb://localhost:27017/')\n",
    "#Création de la variable client qui renvoie à nos informations"
   ]
  },
  {
   "cell_type": "code",
   "execution_count": 5,
   "metadata": {},
   "outputs": [],
   "source": [
    "db = client[\"FloupicsDB\"]\n",
    "#Création de la DB"
   ]
  },
  {
   "cell_type": "code",
   "execution_count": 6,
   "metadata": {},
   "outputs": [],
   "source": [
    "# Création de collection pour chaque fichier csv\n",
    "col_movies = db['movies']\n",
    "col_ratings = db['ratings']\n",
    "col_tags = db['tags']\n",
    "col_links = db['links']"
   ]
  },
  {
   "cell_type": "code",
   "execution_count": 13,
   "metadata": {},
   "outputs": [],
   "source": [
    "#Fonction qui va lire les fichiers CSV sous forme de liste de dictionnaire\n",
    "def insert_donnees(csvf, collection):\n",
    "    #Création d'une liste vide\n",
    "    data = []\n",
    "    try:\n",
    "        #Ouverture du fichier CSV\n",
    "        with open(csvf, newline='', encoding='UTF-8') as csvfile:\n",
    "            #Variable qui va servir de lecteur via DictReader\n",
    "            reader = csv.DictReader(csvfile)\n",
    "            #Ajout des données de la liste data\n",
    "            for row in reader:\n",
    "                data.append(row)\n",
    "\n",
    "            #Insértion des données dans la collection séléctionnée\n",
    "            db[collection].insert_many(data)\n",
    "        print(\"Insertion réussie\")\n",
    "    except:\n",
    "        print(\"Erreur, l'insertion a raté\")"
   ]
  },
  {
   "cell_type": "markdown",
   "metadata": {},
   "source": [
    "Insertion des données CSV :"
   ]
  },
  {
   "cell_type": "code",
   "execution_count": 8,
   "metadata": {},
   "outputs": [
    {
     "name": "stdout",
     "output_type": "stream",
     "text": [
      "Insertion réussie\n"
     ]
    }
   ],
   "source": [
    "insert_donnees(\"CSV/movies.csv\", \"movies\")"
   ]
  },
  {
   "cell_type": "code",
   "execution_count": 9,
   "metadata": {},
   "outputs": [
    {
     "name": "stdout",
     "output_type": "stream",
     "text": [
      "Insertion réussie\n"
     ]
    }
   ],
   "source": [
    "insert_donnees(\"CSV/ratings.csv\", \"ratings\")"
   ]
  },
  {
   "cell_type": "code",
   "execution_count": 10,
   "metadata": {},
   "outputs": [
    {
     "name": "stdout",
     "output_type": "stream",
     "text": [
      "Insertion réussie\n"
     ]
    }
   ],
   "source": [
    "insert_donnees(\"CSV/links.csv\", \"links\")"
   ]
  },
  {
   "cell_type": "code",
   "execution_count": 11,
   "metadata": {},
   "outputs": [
    {
     "name": "stdout",
     "output_type": "stream",
     "text": [
      "Insertion réussie\n"
     ]
    }
   ],
   "source": [
    "insert_donnees(\"CSV/tags.csv\", \"tags\")"
   ]
  },
  {
   "cell_type": "markdown",
   "metadata": {},
   "source": [
    "Vérification de la base de données :"
   ]
  },
  {
   "cell_type": "code",
   "execution_count": 12,
   "metadata": {},
   "outputs": [
    {
     "name": "stdout",
     "output_type": "stream",
     "text": [
      "['FloupicsDB', 'admin', 'config', 'local']\n"
     ]
    }
   ],
   "source": [
    "print(client.list_database_names())"
   ]
  },
  {
   "cell_type": "markdown",
   "metadata": {},
   "source": [
    "On peut voir que l'insertion est réussi et que les données sont présentes\n",
    "\n",
    "![MongoDB.png](IMG/MongoDB.png)\n",
    "\n",
    "Le shell\n",
    "\n",
    "![ShellMongoDB.png](IMG/ShellMongoDB.png)"
   ]
  },
  {
   "cell_type": "code",
   "execution_count": null,
   "metadata": {},
   "outputs": [],
   "source": []
  }
 ],
 "metadata": {
  "kernelspec": {
   "display_name": "Python 3",
   "language": "python",
   "name": "python3"
  },
  "language_info": {
   "codemirror_mode": {
    "name": "ipython",
    "version": 3
   },
   "file_extension": ".py",
   "mimetype": "text/x-python",
   "name": "python",
   "nbconvert_exporter": "python",
   "pygments_lexer": "ipython3",
   "version": "3.8.6"
  }
 },
 "nbformat": 4,
 "nbformat_minor": 4
}
